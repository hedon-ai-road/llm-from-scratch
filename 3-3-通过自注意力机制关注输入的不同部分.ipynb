{
 "cells": [
  {
   "cell_type": "markdown",
   "id": "9516a629",
   "metadata": {},
   "source": [
    "## 3.3 通过自注意力机制关注输入的不同部分"
   ]
  },
  {
   "cell_type": "code",
   "execution_count": 19,
   "id": "02b11119",
   "metadata": {},
   "outputs": [],
   "source": [
    "import torch"
   ]
  },
  {
   "cell_type": "code",
   "execution_count": 20,
   "id": "dc0bca84",
   "metadata": {},
   "outputs": [],
   "source": [
    "inputs = torch.tensor(\n",
    "    [\n",
    "        [0.43, 0.15, 0.89],   # Your\n",
    "        [0.55, 0.87, 0.66],   # journey\n",
    "        [0.57, 0.85, 0.64],   # starts\n",
    "        [0.22, 0.58, 0.33],   # with\n",
    "        [0.77, 0.25, 0.10],   # one\n",
    "        [0.05, 0.80, 0.55],   # step\n",
    "    ]\n",
    ")"
   ]
  },
  {
   "cell_type": "code",
   "execution_count": 21,
   "id": "1db76cf7",
   "metadata": {},
   "outputs": [
    {
     "name": "stdout",
     "output_type": "stream",
     "text": [
      "tensor([0.9544, 1.4950, 1.4754, 0.8434, 0.7070, 1.0865])\n"
     ]
    }
   ],
   "source": [
    "query = inputs[1]\n",
    "\n",
    "# 使用点积计算所有输入与 inputs[1] 的注意力分数\n",
    "attn_score_2 = torch.empty(inputs.shape[0])\n",
    "for i, x_i in enumerate(inputs):\n",
    "    attn_score_2[i] = torch.dot(x_i, query)\n",
    "print(attn_score_2)"
   ]
  },
  {
   "cell_type": "code",
   "execution_count": 22,
   "id": "6738fec2",
   "metadata": {},
   "outputs": [
    {
     "name": "stdout",
     "output_type": "stream",
     "text": [
      "Attention weights: tensor([0.1385, 0.2379, 0.2333, 0.1240, 0.1082, 0.1581])\n",
      "Sum: tensor(1.)\n"
     ]
    }
   ],
   "source": [
    "def softmax_naive(x):\n",
    "    return torch.exp(x) / torch.exp(x).sum(dim=0)\n",
    "\n",
    "# 注意力权重归一化\n",
    "attn_weights_2 = softmax_naive(attn_score_2)\n",
    "print(\"Attention weights:\", attn_weights_2)\n",
    "print(\"Sum:\", attn_weights_2.sum())"
   ]
  },
  {
   "cell_type": "code",
   "execution_count": 23,
   "id": "3f6fb55a",
   "metadata": {},
   "outputs": [
    {
     "name": "stdout",
     "output_type": "stream",
     "text": [
      "query.shape: torch.Size([3])\n",
      "context_vec_2: tensor([0., 0., 0.])\n",
      "context_vec_2: tensor([0.4419, 0.6515, 0.5683])\n"
     ]
    }
   ],
   "source": [
    "query = inputs[1]\n",
    "print(\"query.shape:\", query.shape)\n",
    "context_vec_2 = torch.zeros(query.shape)\n",
    "print(\"context_vec_2:\", context_vec_2)\n",
    "\n",
    "# 计算上下文向量：将所有输入的向量与其对应的注意力权重相乘而获得\n",
    "for i, x_i in enumerate(inputs):\n",
    "    context_vec_2 += attn_weights_2[i] * x_i\n",
    "print(\"context_vec_2:\", context_vec_2)"
   ]
  },
  {
   "cell_type": "markdown",
   "id": "7bc6bbf1",
   "metadata": {},
   "source": [
    "### 推广一下，计算所有输入的上下文向量\n",
    "\n",
    "1. 计算注意力分数：衡量每个词对其他词的\"相关性\"或\"相似度\"\n",
    "    - 计算每对词之间的点积，得到相似度分数\n",
    "    - 分数越高，表示两个词越相关\n",
    "    - 为后续的加权平均做准备\n",
    "2. 归一化获取注意力权重：将原始分数转换为概率分布，确保权重和为1\n",
    "    - 使用 softmax 将任意实数转换为 0-1 之间的概率\n",
    "    - 每行（每个词）对所有词的注意力权重总和为1\n",
    "    - 这样每个词对其他词的\"关注度\"就变成了百分比\n",
    "3. 计算上下文向量：根据注意力权重，为每个词生成包含上下文信息的向量表示\n",
    "    - 将每个词对所有词的注意力权重作为系数\n",
    "    - 对所有词的向量进行加权平均\n",
    "    - 得到每个词的\"上下文向量\"，包含了整个序列的信息\n",
    "\n",
    "这3个步骤实现了自注意力机制的核心思想：\n",
    "\n",
    "- \"看\" - 计算每个词对其他词的关注度\n",
    "- \"权衡\" - 将关注度转换为权重\n",
    "- \"融合\" - 根据权重融合所有词的信息\n",
    "\n",
    "最终效果： 每个词的向量表示都包含了整个序列的上下文信息，而不仅仅是自己的信息。这样模型就能理解词与词之间的关系，比如\"journey starts\"中的\"starts\"会更多地关注\"journey\"的信息。"
   ]
  },
  {
   "cell_type": "code",
   "execution_count": 25,
   "id": "01453dd3",
   "metadata": {},
   "outputs": [
    {
     "name": "stdout",
     "output_type": "stream",
     "text": [
      "tensor([[0.9995, 0.9544, 0.9422, 0.4753, 0.4576, 0.6310],\n",
      "        [0.9544, 1.4950, 1.4754, 0.8434, 0.7070, 1.0865],\n",
      "        [0.9422, 1.4754, 1.4570, 0.8296, 0.7154, 1.0605],\n",
      "        [0.4753, 0.8434, 0.8296, 0.4937, 0.3474, 0.6565],\n",
      "        [0.4576, 0.7070, 0.7154, 0.3474, 0.6654, 0.2935],\n",
      "        [0.6310, 1.0865, 1.0605, 0.6565, 0.2935, 0.9450]])\n"
     ]
    }
   ],
   "source": [
    "# 1. 计算注意力分数\n",
    "attn_scores = torch.empty(6, 6)\n",
    "for i, x_i in enumerate(inputs):\n",
    "    for j, x_j in enumerate(inputs):\n",
    "        attn_scores[i, j] = torch.dot(x_i, x_j)\n",
    "print(attn_scores)"
   ]
  },
  {
   "cell_type": "code",
   "execution_count": 30,
   "id": "6dd19453",
   "metadata": {},
   "outputs": [
    {
     "name": "stdout",
     "output_type": "stream",
     "text": [
      "tensor([[0.2098, 0.2006, 0.1981, 0.1242, 0.1220, 0.1452],\n",
      "        [0.1385, 0.2379, 0.2333, 0.1240, 0.1082, 0.1581],\n",
      "        [0.1390, 0.2369, 0.2326, 0.1242, 0.1108, 0.1565],\n",
      "        [0.1435, 0.2074, 0.2046, 0.1462, 0.1263, 0.1720],\n",
      "        [0.1526, 0.1958, 0.1975, 0.1367, 0.1879, 0.1295],\n",
      "        [0.1385, 0.2184, 0.2128, 0.1420, 0.0988, 0.1896]])\n",
      "Row 2 sum: 1.0\n",
      "All row sums: tensor([1.0000, 1.0000, 1.0000, 1.0000, 1.0000, 1.0000])\n"
     ]
    }
   ],
   "source": [
    "# 2. 归一化获取注意力权重\n",
    "attn_weights = torch.softmax(attn_scores, dim=-1)\n",
    "print(attn_weights)\n",
    "\n",
    "# -1 表示在最后一个维度进行归一化，因为 attn_scores 是一个 [行, 列]，所以这里是在列上进行归一化，使得每行的值（在列维度的总和）为 1\n",
    "# \"沿着列的方向\" = 在每一行内部，从左到右（列 0 到列 5）进行归一化\n",
    "# 每一行都独立进行这个过程，结果每一行的 6 个数字加起来都等于 1\n",
    "row_2_sum = sum([0.1385, 0.2379, 0.2333, 0.1240, 0.1082, 0.1581])\n",
    "print(\"Row 2 sum:\", row_2_sum)\n",
    "print(\"All row sums:\", attn_weights.sum(dim=-1))"
   ]
  },
  {
   "cell_type": "code",
   "execution_count": 31,
   "id": "8dcce32c",
   "metadata": {},
   "outputs": [
    {
     "name": "stdout",
     "output_type": "stream",
     "text": [
      "tensor([[0.4421, 0.5931, 0.5790],\n",
      "        [0.4419, 0.6515, 0.5683],\n",
      "        [0.4431, 0.6496, 0.5671],\n",
      "        [0.4304, 0.6298, 0.5510],\n",
      "        [0.4671, 0.5910, 0.5266],\n",
      "        [0.4177, 0.6503, 0.5645]])\n"
     ]
    }
   ],
   "source": [
    "# 3. 计算上下文向量\n",
    "all_contexts_vec = attn_weights @ inputs\n",
    "print(all_contexts_vec)"
   ]
  }
 ],
 "metadata": {
  "kernelspec": {
   "display_name": ".venv",
   "language": "python",
   "name": "python3"
  },
  "language_info": {
   "codemirror_mode": {
    "name": "ipython",
    "version": 3
   },
   "file_extension": ".py",
   "mimetype": "text/x-python",
   "name": "python",
   "nbconvert_exporter": "python",
   "pygments_lexer": "ipython3",
   "version": "3.10.16"
  }
 },
 "nbformat": 4,
 "nbformat_minor": 5
}
