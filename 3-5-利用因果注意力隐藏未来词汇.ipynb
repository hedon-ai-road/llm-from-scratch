{
 "cells": [
  {
   "cell_type": "code",
   "execution_count": 8,
   "id": "8841a558",
   "metadata": {},
   "outputs": [],
   "source": [
    "import torch\n",
    "from self_attention import SelfAttention_v2, inputs"
   ]
  },
  {
   "cell_type": "code",
   "execution_count": 17,
   "id": "f64d6728",
   "metadata": {},
   "outputs": [],
   "source": [
    "d_in = inputs.shape[1]\n",
    "d_out = 2\n",
    "\n",
    "sa_v2 = SelfAttention_v2(d_in,d_out)"
   ]
  },
  {
   "cell_type": "code",
   "execution_count": 29,
   "id": "9b93b1b1",
   "metadata": {},
   "outputs": [
    {
     "name": "stdout",
     "output_type": "stream",
     "text": [
      "tensor([[0.1749, 0.1585, 0.1594, 0.1666, 0.1834, 0.1572],\n",
      "        [0.1617, 0.1669, 0.1674, 0.1659, 0.1775, 0.1607],\n",
      "        [0.1616, 0.1668, 0.1674, 0.1659, 0.1779, 0.1604],\n",
      "        [0.1625, 0.1683, 0.1684, 0.1662, 0.1696, 0.1650],\n",
      "        [0.1615, 0.1659, 0.1667, 0.1657, 0.1819, 0.1583],\n",
      "        [0.1632, 0.1686, 0.1686, 0.1664, 0.1664, 0.1668]],\n",
      "       grad_fn=<SoftmaxBackward0>)\n"
     ]
    }
   ],
   "source": [
    "queries = sa_v2.W_query(inputs)\n",
    "keys = sa_v2.W_key(inputs)\n",
    "attn_scores = queries @ keys.T\n",
    "attn_weights = torch.softmax(\n",
    "    attn_scores / keys.shape[-1]**0.5, dim=-1,\n",
    ")\n",
    "print(attn_weights)"
   ]
  },
  {
   "cell_type": "markdown",
   "id": "7fbac101",
   "metadata": {},
   "source": [
    "#### 1. 使用 PyTorch 的 tril 来创建对角线以上元素为 0 的掩码矩阵"
   ]
  },
  {
   "cell_type": "code",
   "execution_count": 33,
   "id": "0cae4374",
   "metadata": {},
   "outputs": [
    {
     "name": "stdout",
     "output_type": "stream",
     "text": [
      "tensor([[1., 0., 0., 0., 0., 0.],\n",
      "        [1., 1., 0., 0., 0., 0.],\n",
      "        [1., 1., 1., 0., 0., 0.],\n",
      "        [1., 1., 1., 1., 0., 0.],\n",
      "        [1., 1., 1., 1., 1., 0.],\n",
      "        [1., 1., 1., 1., 1., 1.]])\n",
      "tensor([[0.1749, 0.0000, 0.0000, 0.0000, 0.0000, 0.0000],\n",
      "        [0.1617, 0.1669, 0.0000, 0.0000, 0.0000, 0.0000],\n",
      "        [0.1616, 0.1668, 0.1674, 0.0000, 0.0000, 0.0000],\n",
      "        [0.1625, 0.1683, 0.1684, 0.1662, 0.0000, 0.0000],\n",
      "        [0.1615, 0.1659, 0.1667, 0.1657, 0.1819, 0.0000],\n",
      "        [0.1632, 0.1686, 0.1686, 0.1664, 0.1664, 0.1668]],\n",
      "       grad_fn=<MulBackward0>)\n"
     ]
    }
   ],
   "source": [
    "# 创建对角线以上为 0 的掩码矩阵\n",
    "context_length = attn_scores.shape[0]\n",
    "mask_simple = torch.tril(torch.ones(context_length, context_length))\n",
    "print(mask_simple)\n",
    "\n",
    "# 与之前的注意力权重矩阵相乘，使对角线上的值变为 0\n",
    "masked_simple = attn_weights * mask_simple\n",
    "print(masked_simple)"
   ]
  },
  {
   "cell_type": "markdown",
   "id": "b415f6fe",
   "metadata": {},
   "source": [
    "#### 2. 重新归一化权重，使得权重合为 1"
   ]
  },
  {
   "cell_type": "code",
   "execution_count": 37,
   "id": "6b011d3e",
   "metadata": {},
   "outputs": [
    {
     "name": "stdout",
     "output_type": "stream",
     "text": [
      "tensor([[0.1749],\n",
      "        [0.3286],\n",
      "        [0.4958],\n",
      "        [0.6654],\n",
      "        [0.8417],\n",
      "        [1.0000]], grad_fn=<SumBackward1>)\n",
      "tensor([[1.0000, 0.0000, 0.0000, 0.0000, 0.0000, 0.0000],\n",
      "        [0.4921, 0.5079, 0.0000, 0.0000, 0.0000, 0.0000],\n",
      "        [0.3259, 0.3364, 0.3376, 0.0000, 0.0000, 0.0000],\n",
      "        [0.2442, 0.2529, 0.2531, 0.2498, 0.0000, 0.0000],\n",
      "        [0.1919, 0.1971, 0.1980, 0.1968, 0.2161, 0.0000],\n",
      "        [0.1632, 0.1686, 0.1686, 0.1664, 0.1664, 0.1668]],\n",
      "       grad_fn=<DivBackward0>)\n"
     ]
    }
   ],
   "source": [
    "# dim=-1 沿着最后一个维度（列）求和\n",
    "# keepdim=True 保持原来的维度结构，便于后续的广播操作\n",
    "row_sums = masked_simple.sum(dim=-1, keepdim=True)\n",
    "print(row_sums)\n",
    "masked_simple_norm = masked_simple / row_sums\n",
    "print(masked_simple_norm)"
   ]
  },
  {
   "cell_type": "markdown",
   "id": "c3a4ec4b",
   "metadata": {},
   "source": [
    "#### 使用 softmax 综合前面 1、2 步骤，实现更高效的掩码注意力"
   ]
  },
  {
   "cell_type": "code",
   "execution_count": 50,
   "id": "2440081c",
   "metadata": {},
   "outputs": [
    {
     "name": "stdout",
     "output_type": "stream",
     "text": [
      "tensor([[0., 1., 1., 1., 1., 1.],\n",
      "        [0., 0., 1., 1., 1., 1.],\n",
      "        [0., 0., 0., 1., 1., 1.],\n",
      "        [0., 0., 0., 0., 1., 1.],\n",
      "        [0., 0., 0., 0., 0., 1.],\n",
      "        [0., 0., 0., 0., 0., 0.]])\n",
      "tensor([[-0.0763,    -inf,    -inf,    -inf,    -inf,    -inf],\n",
      "        [-0.0408,  0.0038,    -inf,    -inf,    -inf,    -inf],\n",
      "        [-0.0423,  0.0025,  0.0074,    -inf,    -inf,    -inf],\n",
      "        [-0.0090,  0.0404,  0.0416,  0.0233,    -inf,    -inf],\n",
      "        [-0.0586, -0.0207, -0.0141, -0.0227,  0.1097,    -inf],\n",
      "        [ 0.0040,  0.0504,  0.0502,  0.0317,  0.0320,  0.0354]],\n",
      "       grad_fn=<MaskedFillBackward0>)\n",
      "tensor([[1.0000, 0.0000, 0.0000, 0.0000, 0.0000, 0.0000],\n",
      "        [0.4921, 0.5079, 0.0000, 0.0000, 0.0000, 0.0000],\n",
      "        [0.3259, 0.3364, 0.3376, 0.0000, 0.0000, 0.0000],\n",
      "        [0.2442, 0.2529, 0.2531, 0.2498, 0.0000, 0.0000],\n",
      "        [0.1919, 0.1971, 0.1980, 0.1968, 0.2161, 0.0000],\n",
      "        [0.1632, 0.1686, 0.1686, 0.1664, 0.1664, 0.1668]],\n",
      "       grad_fn=<SoftmaxBackward0>)\n"
     ]
    }
   ],
   "source": [
    "# diagonal=1 表示不包含主对角线，只包含上三角部分\n",
    "mask = torch.triu(torch.ones(context_length, context_length), diagonal=1) \n",
    "print(mask)\n",
    "# masked_fill() 用指定值填充掩码为True的位置\n",
    "masked = attn_scores.masked_fill(mask.bool(), -torch.inf)\n",
    "print(masked)\n",
    "\n",
    "attn_weights = torch.softmax(masked / keys.shape[-1]**0.5, dim=1)\n",
    "print(attn_weights)"
   ]
  },
  {
   "cell_type": "markdown",
   "id": "44935ba7",
   "metadata": {},
   "source": [
    "#### 使用 dropout 掩码额外的注意力权重\n",
    "\n",
    "> 减少过拟合"
   ]
  },
  {
   "cell_type": "code",
   "execution_count": 51,
   "id": "f8bea336",
   "metadata": {},
   "outputs": [
    {
     "name": "stdout",
     "output_type": "stream",
     "text": [
      "tensor([[1., 1., 1., 1., 1., 1.],\n",
      "        [1., 1., 1., 1., 1., 1.],\n",
      "        [1., 1., 1., 1., 1., 1.],\n",
      "        [1., 1., 1., 1., 1., 1.],\n",
      "        [1., 1., 1., 1., 1., 1.],\n",
      "        [1., 1., 1., 1., 1., 1.]])\n",
      "tensor([[2., 2., 0., 2., 2., 0.],\n",
      "        [0., 0., 0., 2., 0., 2.],\n",
      "        [2., 2., 2., 2., 0., 2.],\n",
      "        [0., 2., 2., 0., 0., 2.],\n",
      "        [0., 2., 0., 2., 0., 2.],\n",
      "        [0., 2., 2., 2., 2., 0.]])\n",
      "tensor([[2.0000, 0.0000, 0.0000, 0.0000, 0.0000, 0.0000],\n",
      "        [0.0000, 0.0000, 0.0000, 0.0000, 0.0000, 0.0000],\n",
      "        [0.0000, 0.6729, 0.6752, 0.0000, 0.0000, 0.0000],\n",
      "        [0.0000, 0.0000, 0.5062, 0.4997, 0.0000, 0.0000],\n",
      "        [0.0000, 0.0000, 0.0000, 0.0000, 0.4323, 0.0000],\n",
      "        [0.3263, 0.3372, 0.0000, 0.3328, 0.3329, 0.3337]],\n",
      "       grad_fn=<MulBackward0>)\n"
     ]
    }
   ],
   "source": [
    "torch.manual_seed(123)\n",
    "dropout = torch.nn.Dropout(0.5) # 使用 50% 的 dropout 率\n",
    "example = torch.ones(6, 6)\n",
    "print(example)\n",
    "print(dropout(example))  # 大约一半的值被置为 0，且原来的值被放大了，用于位置权重的整体平衡\n",
    "\n",
    "# 对权重矩阵进行 dropout\n",
    "print(dropout(attn_weights))"
   ]
  },
  {
   "cell_type": "markdown",
   "id": "612eb510",
   "metadata": {},
   "source": [
    "### 封装一个处理批数据的简化因果注意力"
   ]
  },
  {
   "cell_type": "code",
   "execution_count": 55,
   "id": "b8afa1be",
   "metadata": {},
   "outputs": [],
   "source": [
    "import torch.nn as nn\n",
    "\n",
    "class CausalAttention(nn.Module):\n",
    "    \"\"\"一个简化的因果注意力类\"\"\"\n",
    "    def __init__(self, d_in, d_out, context_length,\n",
    "        dropout, qkv_bias=False) :\n",
    "        super().__init__()\n",
    "        self.d_out = d_out\n",
    "        self.W_query = nn.Linear(d_in, d_out, bias=qkv_bias)\n",
    "        self.W_key   = nn.Linear(d_in, d_out, bias=qkv_bias)\n",
    "        self.W_value = nn.Linear(d_in, d_out, bias=qkv_bias)\n",
    "        self.dropout = nn.Dropout(dropout)\n",
    "        self.register_buffer(\n",
    "            'mask',\n",
    "            torch.triu(torch.ones(context_length, context_length),\n",
    "            diagonal=1)\n",
    "        )\n",
    "\n",
    "    def forward(self, x):\n",
    "        # [batch_size, sequence_length, embedding_dim] = [2, 6, 3]\n",
    "        b, num_tokens, d_in = x.shape\n",
    "\n",
    "        # 计算权重矩阵\n",
    "        keys = self.W_key(x)  # [2, 6, 2]\n",
    "        queries = self.W_query(x) # [2, 6, 2]\n",
    "        values = self.W_value(x) # [2, 6, 2]\n",
    "\n",
    "        # keys.transpose(1, 2)：将键矩阵的维度从 [b, num_tokens, d_out] 转换为 [b, d_out, num_tokens] => [2, 6, 2] -> [2, 2, 6]\n",
    "        attn_scores = queries @ keys.transpose(1 ,2)  # [2, 6, 2] @ [2, 2, 6] = [2, 6, 6]\n",
    "        \n",
    "        # 在 Pytorch 中，所有以下划线结尾的操作都会直接作用于元数据，从而减少不必要的内存复制\n",
    "        attn_scores.masked_fill_(\n",
    "            self.mask.bool()[:num_tokens, :num_tokens], -torch.inf\n",
    "        )\n",
    "        attn_weights = torch.softmax(\n",
    "            attn_scores / keys.shape[-1]**0.5, dim=-1\n",
    "        )\n",
    "\n",
    "        # 进行 dropout\n",
    "        attn_weights = self.dropout(attn_weights)\n",
    "\n",
    "        context_vec = attn_weights @ values\n",
    "        return context_vec"
   ]
  },
  {
   "cell_type": "code",
   "execution_count": 56,
   "id": "ea94c108",
   "metadata": {},
   "outputs": [
    {
     "name": "stdout",
     "output_type": "stream",
     "text": [
      "torch.Size([2, 6, 3])\n"
     ]
    }
   ],
   "source": [
    "# 复制输入文本模拟批量输入\n",
    "batch = torch.stack((inputs, inputs), dim=0)\n",
    "print(batch.shape)"
   ]
  },
  {
   "cell_type": "code",
   "execution_count": 58,
   "id": "6a371413",
   "metadata": {},
   "outputs": [
    {
     "name": "stdout",
     "output_type": "stream",
     "text": [
      "tensor([[[-0.4519,  0.2216],\n",
      "         [-0.5874,  0.0058],\n",
      "         [-0.6300, -0.0632],\n",
      "         [-0.5675, -0.0843],\n",
      "         [-0.5526, -0.0981],\n",
      "         [-0.5299, -0.1081]],\n",
      "\n",
      "        [[-0.4519,  0.2216],\n",
      "         [-0.5874,  0.0058],\n",
      "         [-0.6300, -0.0632],\n",
      "         [-0.5675, -0.0843],\n",
      "         [-0.5526, -0.0981],\n",
      "         [-0.5299, -0.1081]]], grad_fn=<UnsafeViewBackward0>)\n",
      "torch.Size([2, 6, 2])\n"
     ]
    }
   ],
   "source": [
    "torch.manual_seed(123)\n",
    "context_length = batch.shape[1] # 6\n",
    "ca = CausalAttention(d_in, d_out, context_length, 0.0)\n",
    "context_vecs = ca(batch)\n",
    "print(context_vecs)\n",
    "print(context_vecs.shape)"
   ]
  }
 ],
 "metadata": {
  "kernelspec": {
   "display_name": ".venv",
   "language": "python",
   "name": "python3"
  },
  "language_info": {
   "codemirror_mode": {
    "name": "ipython",
    "version": 3
   },
   "file_extension": ".py",
   "mimetype": "text/x-python",
   "name": "python",
   "nbconvert_exporter": "python",
   "pygments_lexer": "ipython3",
   "version": "3.10.16"
  }
 },
 "nbformat": 4,
 "nbformat_minor": 5
}
