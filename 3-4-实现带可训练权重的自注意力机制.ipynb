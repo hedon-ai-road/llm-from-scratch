{
 "cells": [
  {
   "cell_type": "markdown",
   "id": "aa2cc230",
   "metadata": {},
   "source": [
    "## 3.4 实现带可训练权重的自注意力机制"
   ]
  },
  {
   "cell_type": "code",
   "execution_count": 1,
   "id": "13488a23",
   "metadata": {},
   "outputs": [],
   "source": [
    "import torch"
   ]
  },
  {
   "cell_type": "code",
   "execution_count": 2,
   "id": "3cf0621a",
   "metadata": {},
   "outputs": [],
   "source": [
    "inputs = torch.tensor(\n",
    "    [\n",
    "        [0.43, 0.15, 0.89],   # Your\n",
    "        [0.55, 0.87, 0.66],   # journey\n",
    "        [0.57, 0.85, 0.64],   # starts\n",
    "        [0.22, 0.58, 0.33],   # with\n",
    "        [0.77, 0.25, 0.10],   # one\n",
    "        [0.05, 0.80, 0.55],   # step\n",
    "    ]\n",
    ")"
   ]
  },
  {
   "cell_type": "code",
   "execution_count": 6,
   "id": "e9e56fb4",
   "metadata": {},
   "outputs": [],
   "source": [
    "x_2 = inputs[1]\n",
    "d_in = inputs.shape[1]  # 输入嵌入维度 = 3\n",
    "d_out = 2  # 输出嵌入维度 = 2"
   ]
  },
  {
   "cell_type": "code",
   "execution_count": 19,
   "id": "11bd348e",
   "metadata": {},
   "outputs": [],
   "source": [
    "torch.manual_seed(123) # 确保输出结果的稳定性\n",
    "W_query = torch.nn.Parameter(torch.rand(d_in, d_out), requires_grad=False)\n",
    "W_key = torch.nn.Parameter(torch.rand(d_in, d_out), requires_grad=False)\n",
    "W_value = torch.nn.Parameter(torch.rand(d_in, d_out), requires_grad=False)"
   ]
  },
  {
   "cell_type": "code",
   "execution_count": 20,
   "id": "6e267cd6",
   "metadata": {},
   "outputs": [
    {
     "name": "stdout",
     "output_type": "stream",
     "text": [
      "tensor([0.4306, 1.4551])\n"
     ]
    }
   ],
   "source": [
    "query_2 = x_2 @ W_query\n",
    "key_2 = x_2 @ W_key\n",
    "value_2 = x_2 @ W_value\n",
    "print(query_2)"
   ]
  },
  {
   "cell_type": "markdown",
   "id": "d6151020",
   "metadata": {},
   "source": [
    "#### 计算所有的键向量和值向量"
   ]
  },
  {
   "cell_type": "code",
   "execution_count": 23,
   "id": "9a618f98",
   "metadata": {},
   "outputs": [
    {
     "name": "stdout",
     "output_type": "stream",
     "text": [
      "keys.shape: torch.Size([6, 2])\n",
      "values.shape: torch.Size([6, 2])\n"
     ]
    }
   ],
   "source": [
    "keys = inputs @ W_key\n",
    "values = inputs @ W_value\n",
    "print(\"keys.shape:\", keys.shape)\n",
    "print(\"values.shape:\", values.shape)"
   ]
  },
  {
   "cell_type": "markdown",
   "id": "a7802b2a",
   "metadata": {},
   "source": [
    "#### 计算第 2 个输入的注意力分数"
   ]
  },
  {
   "cell_type": "code",
   "execution_count": 27,
   "id": "42e0d744",
   "metadata": {},
   "outputs": [
    {
     "name": "stdout",
     "output_type": "stream",
     "text": [
      "keys_2: tensor([0.4433, 1.1419]), query_2: tensor([0.4306, 1.4551]), attn_score_22: 1.852384328842163\n",
      "tensor([1.2705, 1.8524, 1.8111, 1.0795, 0.5577, 1.5440])\n"
     ]
    }
   ],
   "source": [
    "keys_2 = keys[1]\n",
    "attn_score_22 = query_2.dot(keys_2)\n",
    "print(f\"keys_2: {keys_2}, query_2: {query_2}, attn_score_22: {attn_score_22}\")\n",
    "\n",
    "attn_scores_2 = query_2 @ keys.T\n",
    "print(attn_scores_2)"
   ]
  },
  {
   "cell_type": "markdown",
   "id": "ccee92a8",
   "metadata": {},
   "source": [
    "#### 缩放点积注意力，避免维度过大造成点积过大而梯度消失"
   ]
  },
  {
   "cell_type": "code",
   "execution_count": 28,
   "id": "abcd0e11",
   "metadata": {},
   "outputs": [
    {
     "name": "stdout",
     "output_type": "stream",
     "text": [
      "tensor([0.1500, 0.2264, 0.2199, 0.1311, 0.0906, 0.1820])\n"
     ]
    }
   ],
   "source": [
    "d_k= keys.shape[-1]\n",
    "attn_weights_2 = torch.softmax(attn_scores_2 / d_k ** 0.5, dim=-1)\n",
    "print(attn_weights_2)"
   ]
  },
  {
   "cell_type": "markdown",
   "id": "6ce62661",
   "metadata": {},
   "source": [
    "#### 计算上下文向量"
   ]
  },
  {
   "cell_type": "code",
   "execution_count": 29,
   "id": "443910df",
   "metadata": {},
   "outputs": [
    {
     "name": "stdout",
     "output_type": "stream",
     "text": [
      "tensor([0.3061, 0.8210])\n"
     ]
    }
   ],
   "source": [
    "context_vec_2 = attn_weights_2 @ values\n",
    "print(context_vec_2)"
   ]
  },
  {
   "cell_type": "markdown",
   "id": "960fba24",
   "metadata": {},
   "source": [
    "### 完整 v1"
   ]
  },
  {
   "cell_type": "code",
   "execution_count": 35,
   "id": "3246a37d",
   "metadata": {},
   "outputs": [],
   "source": [
    "import torch\n",
    "import torch.nn as nn\n",
    "\n",
    "class SelfAttention_v1(nn.Module):\n",
    "    def __init__(self, d_in, d_out):\n",
    "        super().__init__()\n",
    "        self.W_query = nn.Parameter(torch.rand(d_in, d_out)) # 这里 requires_grad 默认为 True，表示会在反向传播中更新梯度\n",
    "        self.W_key = nn.Parameter(torch.rand(d_in, d_out))\n",
    "        self.W_value = nn.Parameter(torch.rand(d_in, d_out))\n",
    "    \n",
    "    def forward(self, x):\n",
    "        # 1. 分别计算 query、key、value 三个维度的权重矩阵嵌入向量\n",
    "        keys = x @ self.W_key\n",
    "        queires = x @ self.W_query\n",
    "        values = x @ self.W_value\n",
    "        # 2. 注意力分数使用 querys 和 keys 来计算，querys 表示要查询东西，keys 表示我是谁\n",
    "        # querys 说我要什么，keys 说我是什么，二者结合起来，就能得到这个 query 跟所有 keys 的注意力分配\n",
    "        attn_scores = queires @ keys.T\n",
    "        # 3. 归一化注意力分数、同时使用 **0.5(即开方) 来缩放点积，避免梯度消失\n",
    "        attn_weights = torch.softmax(\n",
    "            attn_scores / keys.shape[-1]**0.5, dim=-1\n",
    "        )\n",
    "        # 4. 最后计算上下文向量，表示要查询到什么东西，所以用 values\n",
    "        context_vec = attn_weights @ values\n",
    "        return context_vec"
   ]
  },
  {
   "cell_type": "code",
   "execution_count": 36,
   "id": "d918fbc1",
   "metadata": {},
   "outputs": [
    {
     "name": "stdout",
     "output_type": "stream",
     "text": [
      "tensor([[0.2996, 0.8053],\n",
      "        [0.3061, 0.8210],\n",
      "        [0.3058, 0.8203],\n",
      "        [0.2948, 0.7939],\n",
      "        [0.2927, 0.7891],\n",
      "        [0.2990, 0.8040]], grad_fn=<MmBackward0>)\n"
     ]
    }
   ],
   "source": [
    "torch.manual_seed(123)\n",
    "sa_v1 = SelfAttention_v1(d_in, d_out)\n",
    "print(sa_v1(inputs))"
   ]
  },
  {
   "cell_type": "markdown",
   "id": "8d6a3310",
   "metadata": {},
   "source": [
    "### 使用 nn.Linear 层优化 v1 的实现\n",
    "> 当偏置单元被禁用时，nn.Linear 层可以有效执行矩阵算法。\n",
    "> 它的优势是提供了优化的权重初始化方案，从而有助于模型训练的稳定性和有效性"
   ]
  },
  {
   "cell_type": "code",
   "execution_count": 40,
   "id": "f1a2642c",
   "metadata": {},
   "outputs": [],
   "source": [
    "class SelfAttention_v2(nn.Module):\n",
    "    def __init__(self, d_in, d_out, qkv_bias=False):\n",
    "        super().__init__()\n",
    "        self.W_query = nn.Linear(d_in, d_out, bias=qkv_bias)\n",
    "        self.W_key = nn.Linear(d_in, d_out, bias=qkv_bias)\n",
    "        self.W_value = nn.Linear(d_in, d_out, bias=qkv_bias)\n",
    "\n",
    "    def forward(self, x):\n",
    "        # 1. 计算 3 个维度的矩阵嵌入向量\n",
    "        keys = self.W_key(x)\n",
    "        queries = self.W_query(x)\n",
    "        values = self.W_value(x)\n",
    "\n",
    "        # 2. 计算注意力分数\n",
    "        attn_scores = queries @ keys.T\n",
    "\n",
    "        # 3. 注意力分数缩放与归一化\n",
    "        attn_weights = torch.softmax(\n",
    "            attn_scores / keys.shape[-1] ** 0.5, dim=-1,\n",
    "        )\n",
    "\n",
    "        # 4. 计算上下文向量\n",
    "        context_vec = attn_weights @ values\n",
    "        return context_vec"
   ]
  },
  {
   "cell_type": "code",
   "execution_count": 39,
   "id": "03693759",
   "metadata": {},
   "outputs": [
    {
     "name": "stdout",
     "output_type": "stream",
     "text": [
      "tensor([[-0.0739,  0.0713],\n",
      "        [-0.0748,  0.0703],\n",
      "        [-0.0749,  0.0702],\n",
      "        [-0.0760,  0.0685],\n",
      "        [-0.0763,  0.0679],\n",
      "        [-0.0754,  0.0693]], grad_fn=<MmBackward0>)\n"
     ]
    }
   ],
   "source": [
    "torch.manual_seed(789)\n",
    "sa_v2 = SelfAttention_v2(d_in, d_out)\n",
    "print(sa_v2(inputs))"
   ]
  }
 ],
 "metadata": {
  "kernelspec": {
   "display_name": ".venv",
   "language": "python",
   "name": "python3"
  },
  "language_info": {
   "codemirror_mode": {
    "name": "ipython",
    "version": 3
   },
   "file_extension": ".py",
   "mimetype": "text/x-python",
   "name": "python",
   "nbconvert_exporter": "python",
   "pygments_lexer": "ipython3",
   "version": "3.10.16"
  }
 },
 "nbformat": 4,
 "nbformat_minor": 5
}
