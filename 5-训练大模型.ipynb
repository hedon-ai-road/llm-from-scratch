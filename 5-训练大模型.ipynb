{
 "cells": [
  {
   "cell_type": "markdown",
   "id": "a3bde110",
   "metadata": {},
   "source": [
    "## 5-1 文本生成"
   ]
  },
  {
   "cell_type": "code",
   "execution_count": 2,
   "id": "897a999d",
   "metadata": {},
   "outputs": [
    {
     "name": "stdout",
     "output_type": "stream",
     "text": [
      "torch.Size([2, 6, 3])\n"
     ]
    }
   ],
   "source": [
    "import torch\n",
    "import tiktoken\n",
    "from gpt_model import GPTModel, GPT_CONFIG_124M, token_ids_to_text, text_to_token_ids"
   ]
  },
  {
   "cell_type": "code",
   "execution_count": 3,
   "id": "440f7aca",
   "metadata": {},
   "outputs": [
    {
     "name": "stdout",
     "output_type": "stream",
     "text": [
      "torch.Size([2, 3, 50257])\n"
     ]
    }
   ],
   "source": [
    "tokenizer = tiktoken.get_encoding(\"gpt2\")\n",
    "\n",
    "inputs = torch.tensor([[16833, 3626, 6100], # [\"every effort moves\",\n",
    "                                        [40, 1107, 588]])  # \"I really like\"]\n",
    "\n",
    "targets = torch.tensor([[3626, 6100, 345],  # [\" effort moves you\",\n",
    "                                      [1107, 588, 11311]]) # \" really like chocolate\"]\n",
    "\n",
    "torch.manual_seed(123)\n",
    "model = GPTModel(GPT_CONFIG_124M)\n",
    "model.eval()\n",
    "\n",
    "with torch.no_grad():\n",
    "    logits = model(inputs)\n",
    "probas = torch.softmax(logits, dim=-1)\n",
    "print(probas.shape)  # 批次大小, 每行词元数量, 嵌入维度"
   ]
  },
  {
   "cell_type": "code",
   "execution_count": 4,
   "id": "ce8387b2",
   "metadata": {},
   "outputs": [
    {
     "name": "stdout",
     "output_type": "stream",
     "text": [
      "Token IDs:\n",
      " tensor([[[16657],\n",
      "         [  339],\n",
      "         [42826]],\n",
      "\n",
      "        [[49906],\n",
      "         [29669],\n",
      "         [41751]]])\n"
     ]
    }
   ],
   "source": [
    "token_ids = torch.argmax(probas, dim=-1, keepdim=True)\n",
    "print(\"Token IDs:\\n\", token_ids)"
   ]
  },
  {
   "cell_type": "code",
   "execution_count": 5,
   "id": "3ffd5ad5",
   "metadata": {},
   "outputs": [
    {
     "name": "stdout",
     "output_type": "stream",
     "text": [
      "Targets batch 1:  effort moves you\n",
      "Outputs batch 1:  Armed heNetflix\n"
     ]
    }
   ],
   "source": [
    "print(f\"Targets batch 1: {token_ids_to_text(targets[0], tokenizer)}\")\n",
    "print(f\"Outputs batch 1:\"\n",
    "    f\" {token_ids_to_text(token_ids[0].flatten(), tokenizer)}\")"
   ]
  },
  {
   "cell_type": "markdown",
   "id": "f36fe244",
   "metadata": {},
   "source": [
    "## 5-2 文本评估\n",
    "\n",
    "模型训练的目标是增大与正确目标词元 ID 对应的索引位置的 softmax 概率。\n",
    "\n",
    "1. 模型接收 3 个输入词元并生成 3 个向量\n",
    "2. 模型生成的张量中的每个向量的索引位置都对应词汇表中的一个单词\n",
    "3. 一个未训练的模型会为每个词元生成一个随机向量\n",
    "4. 模型训练时，目标是最大化与目标向量中的词元索引相对应的值"
   ]
  },
  {
   "cell_type": "code",
   "execution_count": 6,
   "id": "87eb430d",
   "metadata": {},
   "outputs": [
    {
     "name": "stdout",
     "output_type": "stream",
     "text": [
      "Text 1: tensor([7.4541e-05, 3.1061e-05, 1.1563e-05])\n",
      "Text 2: tensor([1.0337e-05, 5.6776e-05, 4.7559e-06])\n"
     ]
    }
   ],
   "source": [
    "text_idx = 0\n",
    "target_probas_1 = probas[text_idx, [0, 1, 2], targets[text_idx]]\n",
    "print(\"Text 1:\", target_probas_1)\n",
    "\n",
    "text_idx = 1\n",
    "target_probas_2 = probas[text_idx, [0, 1, 2], targets[text_idx]]\n",
    "print(\"Text 2:\", target_probas_2)"
   ]
  },
  {
   "cell_type": "markdown",
   "id": "e33f5001",
   "metadata": {},
   "source": [
    "计算概率和目标概率损失步骤：\n",
    "\n",
    "1. logits\n",
    "2. 概率\n",
    "3. 目标概率\n",
    "4. 对数概率\n",
    "5. 平均对数概率\n",
    "6. 负平均对数概率\n",
    "\n",
    "这个过程叫交叉熵损失。"
   ]
  },
  {
   "cell_type": "code",
   "execution_count": 7,
   "id": "639a2ec7",
   "metadata": {},
   "outputs": [
    {
     "name": "stdout",
     "output_type": "stream",
     "text": [
      "log_probas: tensor([ -9.5042, -10.3796, -11.3677, -11.4798,  -9.7764, -12.2561])\n",
      "avg_log_probas: tensor(-10.7940)\n",
      "neg_avg_log_probas: tensor(10.7940)\n"
     ]
    }
   ],
   "source": [
    "log_probas = torch.log(torch.cat((target_probas_1, target_probas_2)))\n",
    "print(\"log_probas:\", log_probas)\n",
    "\n",
    "avg_log_probas = torch.mean(log_probas)\n",
    "print(\"avg_log_probas:\", avg_log_probas)\n",
    "\n",
    "neg_avg_log_probas = avg_log_probas * -1\n",
    "print(\"neg_avg_log_probas:\", neg_avg_log_probas)"
   ]
  },
  {
   "cell_type": "code",
   "execution_count": 8,
   "id": "53fa93c5",
   "metadata": {},
   "outputs": [
    {
     "name": "stdout",
     "output_type": "stream",
     "text": [
      "Logits shape: torch.Size([2, 3, 50257])\n",
      "Targets shape: torch.Size([2, 3])\n",
      "Flattened logits: torch.Size([6, 50257])\n",
      "Falttened targets: torch.Size([6])\n"
     ]
    }
   ],
   "source": [
    "print(\"Logits shape:\", logits.shape)\n",
    "print(\"Targets shape:\", targets.shape)\n",
    "\n",
    "logits_flat = logits.flatten(0, 1)\n",
    "targets_flat = targets.flatten()\n",
    "print(\"Flattened logits:\", logits_flat.shape)\n",
    "print(\"Falttened targets:\", targets_flat.shape)"
   ]
  },
  {
   "cell_type": "code",
   "execution_count": 9,
   "id": "957b1db7",
   "metadata": {},
   "outputs": [
    {
     "name": "stdout",
     "output_type": "stream",
     "text": [
      "tensor(10.7940)\n"
     ]
    }
   ],
   "source": [
    "loss = torch.nn.functional.cross_entropy(logits_flat, targets_flat)\n",
    "print(loss)"
   ]
  },
  {
   "cell_type": "markdown",
   "id": "ebd2c38a",
   "metadata": {},
   "source": [
    "## 5-3 计算训练集和验证集的损失"
   ]
  },
  {
   "cell_type": "code",
   "execution_count": 10,
   "id": "79cbb314",
   "metadata": {},
   "outputs": [
    {
     "name": "stdout",
     "output_type": "stream",
     "text": [
      "Characters: 20479\n",
      "Tokens: 5145\n"
     ]
    }
   ],
   "source": [
    "file_path = \"the-verdict.txt\"\n",
    "with open(file_path, \"r\", encoding=\"utf-8\") as file:\n",
    "    text_data = file.read()\n",
    "\n",
    "total_characters = len(text_data)\n",
    "total_tokens = len(tokenizer.encode(text_data))\n",
    "print(\"Characters:\", total_characters)\n",
    "print(\"Tokens:\", total_tokens)"
   ]
  },
  {
   "cell_type": "code",
   "execution_count": 11,
   "id": "c4d06397",
   "metadata": {},
   "outputs": [],
   "source": [
    "train_ratio = 0.9 # 训练集占数据集中的比例，这里是 90% 训练集，10% 验证集\n",
    "split_idx = int(train_ratio * len(text_data))\n",
    "train_data = text_data[:split_idx] # 训练集\n",
    "val_data = text_data[split_idx:]   # 验证集"
   ]
  },
  {
   "cell_type": "code",
   "execution_count": 12,
   "id": "6ebacfc7",
   "metadata": {},
   "outputs": [
    {
     "name": "stdout",
     "output_type": "stream",
     "text": [
      "Train loader:\n",
      "torch.Size([2, 256]) torch.Size([2, 256])\n",
      "torch.Size([2, 256]) torch.Size([2, 256])\n",
      "torch.Size([2, 256]) torch.Size([2, 256])\n",
      "torch.Size([2, 256]) torch.Size([2, 256])\n",
      "torch.Size([2, 256]) torch.Size([2, 256])\n",
      "torch.Size([2, 256]) torch.Size([2, 256])\n",
      "torch.Size([2, 256]) torch.Size([2, 256])\n",
      "torch.Size([2, 256]) torch.Size([2, 256])\n",
      "torch.Size([2, 256]) torch.Size([2, 256])\n",
      "\n",
      "Validation loader:\n",
      "torch.Size([2, 256]) torch.Size([2, 256])\n"
     ]
    }
   ],
   "source": [
    "from data_loader import create_dataloader_v1\n",
    "\n",
    "train_loader = create_dataloader_v1(\n",
    "    train_data,\n",
    "    batch_size=2,\n",
    "    max_length=GPT_CONFIG_124M[\"context_length\"],\n",
    "    stride=GPT_CONFIG_124M[\"context_length\"],\n",
    "    drop_last=True,\n",
    "    shuffle=True,\n",
    "    num_workers=0,\n",
    ")\n",
    "\n",
    "val_loader = create_dataloader_v1(\n",
    "    val_data,\n",
    "    batch_size=2,\n",
    "    max_length=GPT_CONFIG_124M[\"context_length\"],\n",
    "    stride=GPT_CONFIG_124M[\"context_length\"],\n",
    "    drop_last=False,\n",
    "    shuffle=False,\n",
    "    num_workers=0,\n",
    ")\n",
    "\n",
    "print(\"Train loader:\")\n",
    "for x, y in train_loader:\n",
    "    print(x.shape, y.shape)\n",
    "\n",
    "print(\"\\nValidation loader:\")\n",
    "for x, y in val_loader:\n",
    "    print(x.shape, y.shape)"
   ]
  },
  {
   "cell_type": "code",
   "execution_count": 13,
   "id": "fb72408e",
   "metadata": {},
   "outputs": [],
   "source": [
    "def calc_loss_batch(input_batch, target_batch, model, device):\n",
    "    \"\"\"计算给定批次的交叉熵损失\"\"\"\n",
    "    input_batch = input_batch.to(device)\n",
    "    target_batch = target_batch.to(device)\n",
    "    logits = model(input_batch)\n",
    "    loss = torch.nn.functional.cross_entropy(\n",
    "        logits.flatten(0, 1), target_batch.flatten(),\n",
    "    )\n",
    "    return loss"
   ]
  },
  {
   "cell_type": "code",
   "execution_count": 14,
   "id": "879186a5",
   "metadata": {},
   "outputs": [],
   "source": [
    "def calc_loss_loader(data_loader, model, device, num_batches=None):\n",
    "    \"\"\"用于计算训练集和验证集损失\"\"\"\n",
    "    total_loss = 0\n",
    "    if len(data_loader) == 0:\n",
    "        return float(\"nan\")\n",
    "    elif num_batches is None:\n",
    "        num_batches = len(data_loader)\n",
    "    else:\n",
    "        num_batches = min(num_batches, len(data_loader))\n",
    "    for i, (input_batch, target_batch) in enumerate(data_loader):\n",
    "        if i < num_batches:\n",
    "            loss = calc_loss_batch(input_batch, target_batch, model, device)\n",
    "            total_loss += loss.item()\n",
    "        else:\n",
    "            break\n",
    "    return total_loss / num_batches"
   ]
  },
  {
   "cell_type": "code",
   "execution_count": 15,
   "id": "93f01091",
   "metadata": {},
   "outputs": [
    {
     "name": "stdout",
     "output_type": "stream",
     "text": [
      "Training loss: 10.987583372328016\n",
      "Validation loss: 10.98110580444336\n"
     ]
    }
   ],
   "source": [
    "if torch.cuda.is_available():\n",
    "    device = torch.device(\"cuda\")\n",
    "elif torch.backends.mps.is_available():\n",
    "    device = torch.device(\"mps\")\n",
    "else:\n",
    "    device = torch.device(\"cpu\")\n",
    "\n",
    "model.to(device)\n",
    "with torch.no_grad():\n",
    "    train_loss = calc_loss_loader(train_loader, model, device)\n",
    "    val_loss = calc_loss_loader(val_loader, model, device)\n",
    "print(\"Training loss:\", train_loss)\n",
    "print(\"Validation loss:\", val_loss)"
   ]
  },
  {
   "cell_type": "markdown",
   "id": "170ee260",
   "metadata": {},
   "source": [
    "## 5-4 训练大模型\n",
    "\n",
    "1、遍历训练轮次\n",
    "\n",
    "        2、在每个训练轮次中遍历批次\n",
    "\n",
    "            3、从上个批次迭代中重置损失梯度\n",
    "\n",
    "            4、计算当前批次的损失\n",
    "\n",
    "            5、反向传播以计算损失梯度\n",
    "\n",
    "            6、使用损失梯度更新模型权重\n",
    "\n",
    "            7、打印训练集和验证集的损失（可选）\n",
    "\n",
    "        8、生成本文样本养鱼可视化（可选）\n",
    "    \n",
    "回到 1"
   ]
  },
  {
   "cell_type": "code",
   "execution_count": 16,
   "id": "d590fbae",
   "metadata": {},
   "outputs": [],
   "source": [
    "from gpt_model import generate_text_simple\n",
    "\n",
    "def train_model_simple(model, train_loader, val_loader,\n",
    "                    optimizer, device, num_epochs,\n",
    "                    eval_freq, eval_iter, start_context, tokenizer):\n",
    "    \n",
    "    # 初始化列表以跟踪损失和所见的词元\n",
    "    train_losses, val_losses, track_tokens_seen = [], [], []\n",
    "    tokens_seen, global_step = 0, -1\n",
    "\n",
    "    # 开始主训练循环\n",
    "    for epoch in range(num_epochs):\n",
    "        model.train()\n",
    "        for input_batch, target_batch in train_loader:\n",
    "            # 重置上一个批次迭代中的损失梯度\n",
    "            optimizer.zero_grad()\n",
    "            loss = calc_loss_batch(\n",
    "                input_batch, target_batch, model, device,\n",
    "            )\n",
    "            # 计算损失梯度\n",
    "            loss.backward()\n",
    "            # 使用损失梯度更新模型权重\n",
    "            optimizer.step()\n",
    "            tokens_seen += input_batch.numel()\n",
    "            global_step += 1\n",
    "\n",
    "            # 可选的评估步骤\n",
    "            if global_step % eval_freq == 0:\n",
    "                train_loss, val_loss = evaluate_model(\n",
    "                    model, train_loader, val_loader, device, eval_iter)\n",
    "                train_losses.append(train_loss)\n",
    "                val_losses.append(val_loss)\n",
    "                track_tokens_seen.append(tokens_seen)\n",
    "                print(f\"Ep {epoch+1} (Step {global_step:06d}):\"\n",
    "                    f\"Train loss {train_loss:.3f}, \"\n",
    "                    f\"Val loss {val_loss:.3f}\")\n",
    "\n",
    "        if epoch % 3 == 0:\n",
    "            generate_and_print_sample(\n",
    "                model, tokenizer, device, start_context\n",
    "            )\n",
    "    return train_losses, val_losses, track_tokens_seen\n",
    "\n",
    "def evaluate_model(model, train_loader, val_loader, device, eval_iter):\n",
    "    \"\"\"评估模型\"\"\"\n",
    "\n",
    "    # 在评估阶段禁用 dropout，以产出稳定且可复现的结果\n",
    "    model.eval()\n",
    "    with torch.no_grad():\n",
    "        train_loss = calc_loss_loader(train_loader, model, device, num_batches=eval_iter)\n",
    "        val_loss = calc_loss_loader(val_loader, model, device, num_batches=eval_iter)\n",
    "    model.train()\n",
    "    return train_loss, val_loss\n",
    "\n",
    "def generate_and_print_sample(model, tokenizer, device, start_context):\n",
    "    \"\"\"生成文本并打印\"\"\"\n",
    "\n",
    "    # 进入评估模式，禁用 Dropout 层、禁用 BatchNorm 层的统计更新、禁用 梯度计算\n",
    "    model.eval()\n",
    "    context_size = model.pos_emb.weight.shape[0]\n",
    "    encoded = text_to_token_ids(start_context, tokenizer).to(device)\n",
    "    with torch.no_grad():\n",
    "        token_ids = generate_text_simple(\n",
    "            model=model, idx=encoded,\n",
    "            max_new_tokens=50, context_length=context_size,\n",
    "        )\n",
    "    decoded_text = token_ids_to_text(token_ids, tokenizer)\n",
    "    print(decoded_text.replace(\"\\n\", \" \"))\n",
    "\n",
    "    # 进入训练模式，启用 Dropout 层、启用 BatchNorm 层的统计更新、启用 梯度计算\n",
    "    model.train()"
   ]
  },
  {
   "cell_type": "markdown",
   "id": "5bdabbe3",
   "metadata": {},
   "source": [
    "### AdamW 优化器概述\n",
    "\n",
    "`AdamW` 是 Adam 优化器的一个改进版本，它在 Adam 的基础上加入了**权重衰减（Weight Decay）**的正确实现。\n",
    "\n",
    "#### 参数详解\n",
    "\n",
    "##### 1. **`model.parameters()`**\n",
    "```python\n",
    "model.parameters()\n",
    "```\n",
    "- **作用**：获取模型中所有需要训练的参数\n",
    "- **包含**：权重矩阵、偏置向量、嵌入层参数等\n",
    "- **自动更新**：优化器会自动更新这些参数\n",
    "\n",
    "##### 2. **`lr=0.0004` (学习率)**\n",
    "```python\n",
    "lr=0.0004  # 0.0004 = 4e-4\n",
    "```\n",
    "- **含义**：每次参数更新的步长大小\n",
    "- **选择原因**：\n",
    "  - 对于 GPT 模型，这是一个常用的学习率\n",
    "  - 不会太大（避免训练不稳定）\n",
    "  - 不会太小（避免训练过慢）\n",
    "- **经验值**：大模型通常使用 1e-4 到 1e-3 之间的学习率\n",
    "\n",
    "##### 3. **`weight_decay=0.1` (权重衰减)**\n",
    "```python\n",
    "weight_decay=0.1\n",
    "```\n",
    "- **作用**：L2 正则化，防止过拟合\n",
    "- **原理**：在损失函数中添加权重平方和的惩罚项\n",
    "- **公式**：`loss = original_loss + 0.1 * Σ(w²)`\n",
    "- **效果**：鼓励权重值接近 0，提高泛化能力"
   ]
  },
  {
   "cell_type": "code",
   "execution_count": 25,
   "id": "abd9b3b1",
   "metadata": {},
   "outputs": [
    {
     "name": "stdout",
     "output_type": "stream",
     "text": [
      "Ep 1 (Step 000000):Train loss 10.789, Val loss 10.765\n",
      "Ep 1 (Step 000005):Train loss 8.463, Val loss 8.634\n",
      "Every effort moves you,,,,,,,,,,,,,,,,,,,,,,,,,,,,,,,,,,,,,,,,,,,,,,,,,,\n",
      "Ep 2 (Step 000010):Train loss 6.925, Val loss 7.268\n",
      "Ep 2 (Step 000015):Train loss 6.272, Val loss 6.684\n",
      "Ep 3 (Step 000020):Train loss 6.095, Val loss 6.651\n",
      "Ep 3 (Step 000025):Train loss 5.970, Val loss 6.686\n",
      "Ep 4 (Step 000030):Train loss 5.928, Val loss 6.689\n",
      "Ep 4 (Step 000035):Train loss 5.874, Val loss 6.685\n",
      "Every effort moves you,,,,,,,,,,,,,,,,,,,,,,,,,,,,,,,,,,,,,,,,,,,,,,,,,,\n",
      "Ep 5 (Step 000040):Train loss 5.633, Val loss 6.668\n",
      "Ep 6 (Step 000045):Train loss 5.756, Val loss 6.710\n",
      "Ep 6 (Step 000050):Train loss 5.623, Val loss 6.621\n",
      "Ep 7 (Step 000055):Train loss 5.640, Val loss 6.721\n",
      "Ep 7 (Step 000060):Train loss 5.668, Val loss 6.715\n",
      "Every effort moves you, and, and, I had                                           \n",
      "Ep 8 (Step 000065):Train loss 5.511, Val loss 6.629\n",
      "Ep 8 (Step 000070):Train loss 5.122, Val loss 6.465\n",
      "Ep 9 (Step 000075):Train loss 4.697, Val loss 6.305\n",
      "Ep 9 (Step 000080):Train loss 4.316, Val loss 6.262\n",
      "Ep 10 (Step 000085):Train loss 3.871, Val loss 6.140\n",
      "Every effort moves you know the fact of the fact of the Riv to the fact of the Riv--I had been--his, and I was, and I was the picture of the fact he had been the picture. \"I had been the fact of the picture\n",
      "Ep 11 (Step 000090):Train loss 3.542, Val loss 6.116\n",
      "Ep 11 (Step 000095):Train loss 3.143, Val loss 6.093\n",
      "Ep 12 (Step 000100):Train loss 2.660, Val loss 6.072\n",
      "Ep 12 (Step 000105):Train loss 2.091, Val loss 6.125\n",
      "Ep 13 (Step 000110):Train loss 1.801, Val loss 6.094\n",
      "Ep 13 (Step 000115):Train loss 1.468, Val loss 6.135\n",
      "Every effort moves you know,\" was one of the picture.                   \"--I he had the head to me--as he's his pictures? I had the room, I can\n",
      "Ep 14 (Step 000120):Train loss 1.238, Val loss 6.245\n",
      "Ep 14 (Step 000125):Train loss 0.927, Val loss 6.200\n",
      "Ep 15 (Step 000130):Train loss 0.646, Val loss 6.254\n",
      "Ep 16 (Step 000135):Train loss 0.511, Val loss 6.341\n",
      "Ep 16 (Step 000140):Train loss 0.354, Val loss 6.437\n",
      "Every effort moves you?\"  \"Yes--quite insensible to the irony. She wanted him vindicated--and by me!\"       \"Oh, and my unexpected discovery; and continued to wander up and down the room, when I\n",
      "Ep 17 (Step 000145):Train loss 0.305, Val loss 6.479\n",
      "Ep 17 (Step 000150):Train loss 0.253, Val loss 6.566\n",
      "Ep 18 (Step 000155):Train loss 0.208, Val loss 6.607\n",
      "Ep 18 (Step 000160):Train loss 0.167, Val loss 6.683\n",
      "Ep 19 (Step 000165):Train loss 0.143, Val loss 6.726\n",
      "Ep 19 (Step 000170):Train loss 0.119, Val loss 6.764\n",
      "Every effort moves you?\"  \"Yes--quite insensible to the irony. She wanted him vindicated--and by me!\"  He laughed again, and threw back his head to look up at the sketch of the donkey. \"There were days when I\n",
      "Ep 20 (Step 000175):Train loss 0.140, Val loss 6.855\n"
     ]
    }
   ],
   "source": [
    "torch.manual_seed(123)\n",
    "model = GPTModel(GPT_CONFIG_124M)\n",
    "model.to(device)\n",
    "optimizer = torch.optim.AdamW(\n",
    "    model.parameters(),\n",
    "    lr=0.0004, weight_decay=0.1\n",
    ")\n",
    "num_epochs = 20\n",
    "train_losses, val_losses, tokens_seen = train_model_simple(\n",
    "    model, train_loader, val_loader, optimizer, device,\n",
    "    num_epochs=num_epochs, eval_freq=5, eval_iter=5,\n",
    "    start_context=\"Every effort moves you\", tokenizer=tokenizer,\n",
    ")"
   ]
  },
  {
   "cell_type": "markdown",
   "id": "4c2a1e95",
   "metadata": {},
   "source": [
    "### 打印损失曲线"
   ]
  },
  {
   "cell_type": "code",
   "execution_count": 26,
   "id": "0fe9128f",
   "metadata": {},
   "outputs": [
    {
     "data": {
      "image/png": "[encoded data removed]",
      "text/plain": [
       "<Figure size 500x300 with 2 Axes>"
      ]
     },
     "metadata": {},
     "output_type": "display_data"
    }
   ],
   "source": [
    "import matplotlib.pyplot as plt\n",
    "from matplotlib.ticker import MaxNLocator\n",
    "\n",
    "def plot_losses(epochs_seen, tokens_seen, train_losses, val_losses):\n",
    "    fig, ax1 = plt.subplots(figsize=(5, 3))\n",
    "    ax1.plot(epochs_seen, train_losses, label=\"Training loss\")\n",
    "    ax1.plot(epochs_seen, val_losses, linestyle=\"-.\", label=\"Validation loss\")\n",
    "    ax1.set_xlabel(\"Epochs\")\n",
    "    ax1.set_ylabel(\"Loss\")\n",
    "    ax1.legend(loc=\"upper right\")\n",
    "    ax1.xaxis.set_major_locator(MaxNLocator(integer=True))\n",
    "    ax2 = ax1.twiny()\n",
    "    ax2.plot(tokens_seen, train_losses, alpha=0)\n",
    "    ax2.set_xlabel(\"Tokens seen\")\n",
    "    fig.tight_layout()\n",
    "    plt.show()\n",
    "\n",
    "epochs_tensor = torch.linspace(0, num_epochs, len(train_losses))\n",
    "plot_losses = plot_losses(epochs_tensor, tokens_seen, train_losses, val_losses)"
   ]
  },
  {
   "cell_type": "markdown",
   "id": "a8e9d7f4",
   "metadata": {},
   "source": [
    "## 6-5 文本生成策略\n",
    "\n",
    "1. 温度缩放：温度越低越稳定，越高越随机\n",
    "2. top-k 采样：k 越小越稳定，越大越随机\n"
   ]
  },
  {
   "cell_type": "code",
   "execution_count": 27,
   "id": "bd09fe2a",
   "metadata": {},
   "outputs": [
    {
     "name": "stdout",
     "output_type": "stream",
     "text": [
      "Output text:\n",
      " I seemed to see it. Gisburn rather a cheap genius--though a good fellow enough--so it was no great surprise to me to\n"
     ]
    }
   ],
   "source": [
    "torch.manual_seed(123)\n",
    "model.to(\"cpu\")\n",
    "model.eval()\n",
    "\n",
    "token_ids = generate_text_simple(\n",
    "    model=model,\n",
    "    idx=text_to_token_ids(\"I seemed to see\", tokenizer),\n",
    "    max_new_tokens=25,\n",
    "    context_length=GPT_CONFIG_124M[\"context_length\"]\n",
    ")\n",
    "print(\"Output text:\\n\", token_ids_to_text(token_ids, tokenizer))"
   ]
  },
  {
   "cell_type": "code",
   "execution_count": 33,
   "id": "02365723",
   "metadata": {},
   "outputs": [],
   "source": [
    "def generate(model, idx, max_new_tokens, context_length,\n",
    "        temperature=0.0, top_k=None, eos_id=None):\n",
    "    for _ in range(max_new_tokens):\n",
    "        idx_cond = idx[:, -context_length:]\n",
    "        with torch.no_grad():\n",
    "            logits = model(idx_cond)\n",
    "        logits = logits[:, -1, :]\n",
    "\n",
    "        # 使用 top_k 采样筛选 logits\n",
    "        if top_k is not None:\n",
    "            top_logits, _ = torch.topk(logits, top_k)\n",
    "            min_val = top_logits[:, -1]\n",
    "            logits = torch.where(\n",
    "                logits < min_val,\n",
    "                torch.tensor(float('-inf')).to(logits.device),\n",
    "                logits,\n",
    "            )\n",
    "        \n",
    "        if temperature > 0.0:\n",
    "            # 使用温度缩放\n",
    "            logits = logits / temperature\n",
    "            probs = torch.softmax(logits, dim=-1)\n",
    "            idx_next = torch.multinomial(probs, num_samples=1)\n",
    "        else:\n",
    "            # 当不使用温度缩放时，执行贪心解码，选取下一个词元\n",
    "            idx_next = torch.argmax(logits, dim=-1, keepdim=True)\n",
    "        \n",
    "        # 如果遇到序列结束词元，则提前停止生成\n",
    "        if idx_next == eos_id:\n",
    "            break\n",
    "        idx = torch.cat((idx, idx_next), dim=1)\n",
    "    return idx"
   ]
  },
  {
   "cell_type": "code",
   "execution_count": 34,
   "id": "dc157264",
   "metadata": {},
   "outputs": [
    {
     "name": "stdout",
     "output_type": "stream",
     "text": [
      "Output text:\n",
      " I seemed to see. And through my dear in the latter: \"interesting deprecating laugh\n"
     ]
    }
   ],
   "source": [
    "torch.manual_seed(123)\n",
    "token_ids = generate(\n",
    "    model=model,\n",
    "    idx=text_to_token_ids(\"I seemed to see\", tokenizer),\n",
    "    max_new_tokens=15,\n",
    "    context_length=GPT_CONFIG_124M[\"context_length\"],\n",
    "    top_k=25,\n",
    "    temperature=1.4,\n",
    ")\n",
    "print(\"Output text:\\n\", token_ids_to_text(token_ids, tokenizer))"
   ]
  },
  {
   "cell_type": "markdown",
   "id": "1193462e",
   "metadata": {},
   "source": [
    "## 5-6 权重保存和加载"
   ]
  },
  {
   "cell_type": "code",
   "execution_count": 35,
   "id": "a21a597c",
   "metadata": {},
   "outputs": [],
   "source": [
    "import os\n",
    "\n",
    "dump_model_file = \"model_and_optimizer.pth\"\n",
    "\n",
    "try:\n",
    "    os.remove(dump_model_file)\n",
    "except:\n",
    "    pass\n",
    "\n",
    "torch.save({\n",
    "    \"model_state_dict\": model.state_dict(),\n",
    "    \"optimizer_state_dict\": optimizer.state_dict(),\n",
    "}, dump_model_file)"
   ]
  },
  {
   "cell_type": "code",
   "execution_count": 36,
   "id": "9dec5dd1",
   "metadata": {},
   "outputs": [
    {
     "name": "stdout",
     "output_type": "stream",
     "text": [
      "Output text:\n",
      " I seemed to see. And through my dear in the latter: \"interesting deprecating laugh\n"
     ]
    }
   ],
   "source": [
    "checkpoint = torch.load(dump_model_file, map_location=device)\n",
    "model = GPTModel(GPT_CONFIG_124M)\n",
    "model.load_state_dict(checkpoint[\"model_state_dict\"])\n",
    "optimizer = torch.optim.AdamW(\n",
    "    model.parameters(),\n",
    "    lr=5e-4, weight_decay=0.1,\n",
    ")\n",
    "optimizer.load_state_dict(checkpoint[\"optimizer_state_dict\"])\n",
    "model.train()\n",
    "\n",
    "torch.manual_seed(123)\n",
    "token_ids = generate(\n",
    "    model=model,\n",
    "    idx=text_to_token_ids(\"I seemed to see\", tokenizer),\n",
    "    max_new_tokens=15,\n",
    "    context_length=GPT_CONFIG_124M[\"context_length\"],\n",
    "    top_k=25,\n",
    "    temperature=1.4,\n",
    ")\n",
    "print(\"Output text:\\n\", token_ids_to_text(token_ids, tokenizer))"
   ]
  },
  {
   "cell_type": "markdown",
   "id": "df822010",
   "metadata": {},
   "source": [
    "## 5-7 加载 OpenAI 预训练权重"
   ]
  },
  {
   "cell_type": "code",
   "execution_count": 39,
   "id": "f7886b4c",
   "metadata": {},
   "outputs": [
    {
     "name": "stdout",
     "output_type": "stream",
     "text": [
      "File already exists and is up-to-date: gpt2/124M/checkpoint\n",
      "File already exists and is up-to-date: gpt2/124M/encoder.json\n",
      "File already exists and is up-to-date: gpt2/124M/hparams.json\n",
      "File already exists and is up-to-date: gpt2/124M/model.ckpt.data-00000-of-00001\n",
      "File already exists and is up-to-date: gpt2/124M/model.ckpt.index\n",
      "File already exists and is up-to-date: gpt2/124M/model.ckpt.meta\n",
      "File already exists and is up-to-date: gpt2/124M/vocab.bpe\n",
      "Settings: {'n_vocab': 50257, 'n_ctx': 1024, 'n_embd': 768, 'n_head': 12, 'n_layer': 12}\n",
      "Parameter dictionary keys: dict_keys(['blocks', 'b', 'g', 'wpe', 'wte'])\n",
      "[[-0.11010301 -0.03926672  0.03310751 ... -0.1363697   0.01506208\n",
      "   0.04531523]\n",
      " [ 0.04034033 -0.04861503  0.04624869 ...  0.08605453  0.00253983\n",
      "   0.04318958]\n",
      " [-0.12746179  0.04793796  0.18410145 ...  0.08991534 -0.12972379\n",
      "  -0.08785918]\n",
      " ...\n",
      " [-0.04453601 -0.05483596  0.01225674 ...  0.10435229  0.09783269\n",
      "  -0.06952604]\n",
      " [ 0.1860082   0.01665728  0.04611587 ... -0.09625227  0.07847701\n",
      "  -0.02245961]\n",
      " [ 0.05135201 -0.02768905  0.0499369  ...  0.00704835  0.15519823\n",
      "   0.12067825]]\n",
      "Token embedding weight tensor dimensions: (50257, 768)\n"
     ]
    }
   ],
   "source": [
    "from gpt_download import download_and_load_gpt2\n",
    "settings, params = download_and_load_gpt2(\n",
    "    model_size=\"124M\", models_dir=\"gpt2\",\n",
    ")\n",
    "\n",
    "print(\"Settings:\", settings)\n",
    "print(\"Parameter dictionary keys:\", params.keys())\n",
    "print(params[\"wte\"])\n",
    "print(\"Token embedding weight tensor dimensions:\", params[\"wte\"].shape)"
   ]
  },
  {
   "cell_type": "code",
   "execution_count": 40,
   "id": "197381f6",
   "metadata": {},
   "outputs": [],
   "source": [
    "model_configs = {\n",
    "    \"gpt2-small (124M)\": {\"emb_dim\": 768, \"n_layers\": 12, \"n_heads\": 12},\n",
    "    \"gpt2-medium (355M)\": {\"emb_dim\": 1024, \"n_layers\": 24, \"n_heads\": 16},\n",
    "    \"gpt2-large (774M)\": {\"emb_dim\": 1280, \"n_layers\": 36, \"n_heads\": 20},\n",
    "    \"gpt2-xl (1558M)\": {\"emb_dim\": 1600, \"n_layers\": 48, \"n_heads\": 25},\n",
    "}\n",
    "\n",
    "# Copy the base configuration and update with specific model settings\n",
    "model_name = \"gpt2-small (124M)\"  # Example model name\n",
    "NEW_CONFIG = GPT_CONFIG_124M.copy()\n",
    "NEW_CONFIG.update(model_configs[model_name])\n",
    "NEW_CONFIG.update({\"context_length\": 1024, \"qkv_bias\": True})\n",
    "\n",
    "gpt = GPTModel(NEW_CONFIG)\n",
    "gpt.eval();"
   ]
  },
  {
   "cell_type": "code",
   "execution_count": 41,
   "id": "7df3b29d",
   "metadata": {},
   "outputs": [],
   "source": [
    "def assign(left, right):\n",
    "    \"\"\"检查 2 个张量或数组是否具有相同的维度或形状，并将 right 张量返回为可训练的 PyTorch 参数\"\"\"\n",
    "    if left.shape != right.shape:\n",
    "        raise ValueError(f\"Shape mismatch. Left: {left.shape}, Right: {right.shape}\")\n",
    "    return torch.nn.Parameter(torch.tensor(right))"
   ]
  },
  {
   "cell_type": "code",
   "execution_count": 42,
   "id": "cb475b58",
   "metadata": {},
   "outputs": [],
   "source": [
    "import numpy as np\n",
    "\n",
    "def load_weights_into_gpt(gpt, params):\n",
    "    \"\"\"将从 GPT-2 的 params 字典中的权重加载到 GPTModel 的 gpt 实例的\"\"\"\n",
    "    gpt.pos_emb.weight = assign(gpt.pos_emb.weight, params['wpe'])\n",
    "    gpt.tok_emb.weight = assign(gpt.tok_emb.weight, params['wte'])\n",
    "    \n",
    "    for b in range(len(params[\"blocks\"])):\n",
    "        q_w, k_w, v_w = np.split(\n",
    "            (params[\"blocks\"][b][\"attn\"][\"c_attn\"])[\"w\"], 3, axis=-1)\n",
    "        gpt.trf_blocks[b].att.W_query.weight = assign(\n",
    "            gpt.trf_blocks[b].att.W_query.weight, q_w.T)\n",
    "        gpt.trf_blocks[b].att.W_key.weight = assign(\n",
    "            gpt.trf_blocks[b].att.W_key.weight, k_w.T)\n",
    "        gpt.trf_blocks[b].att.W_value.weight = assign(\n",
    "            gpt.trf_blocks[b].att.W_value.weight, v_w.T)\n",
    "\n",
    "        q_b, k_b, v_b = np.split(\n",
    "            (params[\"blocks\"][b][\"attn\"][\"c_attn\"])[\"b\"], 3, axis=-1)\n",
    "        gpt.trf_blocks[b].att.W_query.bias = assign(\n",
    "            gpt.trf_blocks[b].att.W_query.bias, q_b)\n",
    "        gpt.trf_blocks[b].att.W_key.bias = assign(\n",
    "            gpt.trf_blocks[b].att.W_key.bias, k_b)\n",
    "        gpt.trf_blocks[b].att.W_value.bias = assign(\n",
    "            gpt.trf_blocks[b].att.W_value.bias, v_b)\n",
    "\n",
    "        gpt.trf_blocks[b].att.out_proj.weight = assign(\n",
    "            gpt.trf_blocks[b].att.out_proj.weight, \n",
    "            params[\"blocks\"][b][\"attn\"][\"c_proj\"][\"w\"].T)\n",
    "        gpt.trf_blocks[b].att.out_proj.bias = assign(\n",
    "            gpt.trf_blocks[b].att.out_proj.bias, \n",
    "            params[\"blocks\"][b][\"attn\"][\"c_proj\"][\"b\"])\n",
    "\n",
    "        gpt.trf_blocks[b].ff.layers[0].weight = assign(\n",
    "            gpt.trf_blocks[b].ff.layers[0].weight, \n",
    "            params[\"blocks\"][b][\"mlp\"][\"c_fc\"][\"w\"].T)\n",
    "        gpt.trf_blocks[b].ff.layers[0].bias = assign(\n",
    "            gpt.trf_blocks[b].ff.layers[0].bias, \n",
    "            params[\"blocks\"][b][\"mlp\"][\"c_fc\"][\"b\"])\n",
    "        gpt.trf_blocks[b].ff.layers[2].weight = assign(\n",
    "            gpt.trf_blocks[b].ff.layers[2].weight, \n",
    "            params[\"blocks\"][b][\"mlp\"][\"c_proj\"][\"w\"].T)\n",
    "        gpt.trf_blocks[b].ff.layers[2].bias = assign(\n",
    "            gpt.trf_blocks[b].ff.layers[2].bias, \n",
    "            params[\"blocks\"][b][\"mlp\"][\"c_proj\"][\"b\"])\n",
    "\n",
    "        gpt.trf_blocks[b].norm1.scale = assign(\n",
    "            gpt.trf_blocks[b].norm1.scale, \n",
    "            params[\"blocks\"][b][\"ln_1\"][\"g\"])\n",
    "        gpt.trf_blocks[b].norm1.shift = assign(\n",
    "            gpt.trf_blocks[b].norm1.shift, \n",
    "            params[\"blocks\"][b][\"ln_1\"][\"b\"])\n",
    "        gpt.trf_blocks[b].norm2.scale = assign(\n",
    "            gpt.trf_blocks[b].norm2.scale, \n",
    "            params[\"blocks\"][b][\"ln_2\"][\"g\"])\n",
    "        gpt.trf_blocks[b].norm2.shift = assign(\n",
    "            gpt.trf_blocks[b].norm2.shift, \n",
    "            params[\"blocks\"][b][\"ln_2\"][\"b\"])\n",
    "\n",
    "    gpt.final_norm.scale = assign(gpt.final_norm.scale, params[\"g\"])\n",
    "    gpt.final_norm.shift = assign(gpt.final_norm.shift, params[\"b\"])\n",
    "    gpt.out_head.weight = assign(gpt.out_head.weight, params[\"wte\"])\n",
    "    \n",
    "    \n",
    "load_weights_into_gpt(gpt, params)\n",
    "gpt.to(device);"
   ]
  },
  {
   "cell_type": "code",
   "execution_count": null,
   "id": "4d7d0281",
   "metadata": {},
   "outputs": [
    {
     "name": "stdout",
     "output_type": "stream",
     "text": [
      "Every effort moves you forward\n",
      "Every effort moves you forward.\n",
      "Every effort moves you forward. \n",
      "Every effort moves you forward.  \n",
      "Every effort moves you forward.  The\n",
      "Every effort moves you forward.  The first\n",
      "Every effort moves you forward.  The first step\n",
      "Every effort moves you forward.  The first step is\n",
      "Every effort moves you forward.  The first step is to\n",
      "Every effort moves you forward.  The first step is to understand\n",
      "Every effort moves you forward.  The first step is to understand the\n",
      "Every effort moves you forward.  The first step is to understand the importance\n",
      "Every effort moves you forward.  The first step is to understand the importance of\n",
      "Every effort moves you forward.  The first step is to understand the importance of your\n",
      "Every effort moves you forward.  The first step is to understand the importance of your work\n",
      "Every effort moves you forward.  The first step is to understand the importance of your work.\n",
      "Every effort moves you forward.  The first step is to understand the importance of your work. \n",
      "Every effort moves you forward.  The first step is to understand the importance of your work.  \n",
      "Every effort moves you forward.  The first step is to understand the importance of your work.  The\n",
      "Every effort moves you forward.  The first step is to understand the importance of your work.  The second\n",
      "Every effort moves you forward.  The first step is to understand the importance of your work.  The second step\n",
      "Every effort moves you forward.  The first step is to understand the importance of your work.  The second step is\n",
      "Every effort moves you forward.  The first step is to understand the importance of your work.  The second step is to\n",
      "Every effort moves you forward.  The first step is to understand the importance of your work.  The second step is to understand\n",
      "Every effort moves you forward.  The first step is to understand the importance of your work.  The second step is to understand the\n"
     ]
    }
   ],
   "source": [
    "torch.manual_seed(123)\n",
    "max_new_tokens = 25\n",
    "for i in range(max_new_tokens):\n",
    "    token_ids = generate(\n",
    "        model=gpt,\n",
    "        idx=text_to_token_ids(\"Every effort moves you\", tokenizer).to(device),\n",
    "        max_new_tokens=i+1,\n",
    "        context_length=NEW_CONFIG[\"context_length\"],\n",
    "        top_k=None,\n",
    "        temperature=0.0,\n",
    "    )\n",
    "    print(token_ids_to_text(token_ids, tokenizer).replace('\\n', \" \"))"
   ]
  },
  {
   "cell_type": "markdown",
   "id": "eb6da96d",
   "metadata": {},
   "source": [
    "### 6 使用学习率预热、余弦衰减、梯度裁剪来优化训练过程\n",
    "\n",
    "- 学习率预热 (Warmup)：解决训练初期的不稳定性。\n",
    "- 余弦衰减 (Cosine Annealing)：解决训练中后期的精细调整和收敛问题。\n",
    "- 梯度裁剪 (Gradient Clipping)：解决训练过程中可能出现的梯度爆炸问题，充当“安全带”。"
   ]
  },
  {
   "cell_type": "code",
   "execution_count": 30,
   "id": "86b93880",
   "metadata": {},
   "outputs": [],
   "source": [
    "import math\n",
    "\n",
    "def train_model(model, train_loader, val_loader, optimizer, device,\n",
    "                num_epochs, eval_freq, eval_iter, start_context, tokenizer,\n",
    "                warmup_steps, initial_lr=3e-05, min_lr=1e-6):\n",
    "    train_losses, val_losses, track_tokens_seen, track_lrs = [], [], [], []\n",
    "    tokens_seen, global_step = 0, -1\n",
    "\n",
    "    peak_lr = optimizer.param_groups[0][\"lr\"]\n",
    "    total_training_steps = len(train_loader) * num_epochs # 计算训练过程中的所有迭代步数\n",
    "    lr_increment = (peak_lr - initial_lr) / warmup_steps  # 计算在预热阶段学习率的增量\n",
    "\n",
    "    for epoch in range(num_epochs):\n",
    "        model.train()\n",
    "        for input_batch, target_batch in train_loader:\n",
    "            global_step +=1\n",
    "\n",
    "            if global_step < warmup_steps:\n",
    "                lr = initial_lr + global_step * lr_increment    # 学习率预热阶段\n",
    "            else:\n",
    "                progress = ((global_step - warmup_steps) /\n",
    "                                    (total_training_steps - warmup_steps))\n",
    "                lr = min_lr + (peak_lr - min_lr) * 0.5 * (      # 余弦衰减阶段\n",
    "                    1 + math.cos(math.pi * progress))\n",
    "            for param_group in optimizer.param_groups:  # 在优化器上应用计算后的学习率\n",
    "                param_group[\"lr\"] = lr\n",
    "            track_lrs.append(lr)\n",
    "\n",
    "            # 计算交叉熵损伤并反向传播\n",
    "            optimizer.zero_grad()\n",
    "            loss = calc_loss_batch(input_batch, target_batch, model, device)\n",
    "            loss.backward()\n",
    "\n",
    "            if global_step >= warmup_steps: # 在预热阶段后使用梯度裁剪来避免梯度爆炸\n",
    "                torch.nn.utils.clip_grad_norm_(\n",
    "                    model.parameters(), max_norm=1.0\n",
    "                )\n",
    "            \n",
    "            optimizer.step()\n",
    "            tokens_seen += input_batch.numel()\n",
    "\n",
    "            if global_step % eval_freq == 0:\n",
    "                train_loss, val_loss = evaluate_model(\n",
    "                    model, train_loader, val_loader, device, eval_iter\n",
    "                )\n",
    "                train_losses.append(train_loss)\n",
    "                val_losses.append(val_loss)\n",
    "                track_tokens_seen.append(tokens_seen)\n",
    "                print(f\"Ep {epoch+1} (Step {global_step:06d}):\"\n",
    "                    f\"Train loss {train_loss:.3f}, \"\n",
    "                    f\"Val loss {val_loss:.3f}\")\n",
    "        generate_and_print_sample(model, tokenizer, device, start_context)\n",
    "    return train_losses, val_losses, track_tokens_seen, track_lrs"
   ]
  }
 ],
 "metadata": {
  "kernelspec": {
   "display_name": ".venv",
   "language": "python",
   "name": "python3"
  },
  "language_info": {
   "codemirror_mode": {
    "name": "ipython",
    "version": 3
   },
   "file_extension": ".py",
   "mimetype": "text/x-python",
   "name": "python",
   "nbconvert_exporter": "python",
   "pygments_lexer": "ipython3",
   "version": "3.12.10"
  }
 },
 "nbformat": 4,
 "nbformat_minor": 5
}
